from google.colab import drive
drive.mount('/content/drive')

# zipfile 푸는 용도
#import zipfile

#with zipfile.ZipFile('/content/drive/MyDrive/roots.zip', 'r') as zip_ref:
#   zip_ref.extractall('/content/drive/MyDrive/')

from logging import root
import os
from datetime import datetime
import numpy as np
import cv2
from keras.utils import to_categorical
from keras.models import Sequential
from keras.layers import Conv2D, MaxPooling2D, Flatten, Dense
import gc

# 폴더 안의 모든 파일과 폴더를 가져오는 함수
def get_random_files_in_folder(root_folder, num_files):
    files = []
    for folderpath in os.listdir(root_folder):
        folder_path = os.path.join(root_folder, folderpath)
        for file in os.listdir(folder_path):
            if file.endswith("jpg"):
                files.append(os.path.join(root_folder, folderpath, file))
    
    # random.sample()을 이용해 리스트에서 무작위로 num_files개의 파일을 선택
    random_files = random.sample(files, num_files)
    
    return random_files


# 'train' 폴더 안의 모든 폴더를 가져오고 각 폴더 안의 파일을 출력
import os
import numpy as np
from datetime import datetime

def load_images_and_labels(root_folder, image_shape):
    images = []
    labels = []
    for folder_name in os.listdir(root_folder):
        folder_path = os.path.join(root_folder, folder_name)
        if "readme.txt" in os.listdir(folder_path):
          print(folder_path)
          continue
        if os.path.isdir(folder_path):
            # Get date from folder name
            date_str = folder_name.split('_')[1]
            #date = datetime.strptime(date_str, '%y%m%d')

            # Initialize min_time to None
            min_time = None
            
            file_list = os.listdir(folder_path)
            for filename in file_list:
                if filename.endswith(".jpg"):

                    # Get time from filename
                    time_str = filename.split('_')[1][0:12]
                    time = datetime.strptime(time_str, '%y%m%d%H%M%S')  # Convert to seconds

                    # Set min_time to the time of the first image
                    if min_time is None:
                        min_time = time
                    elif time < min_time:
                        min_time = time

            # Load images and labels
            for filename in file_list:
                if filename.endswith(".jpg"):
                    img = cv2.imread(os.path.join(folder_path, filename))
                    if img is None:
                      continue  # Skip this file
                    img = cv2.resize(img, image_shape)  # Resize the image
                    images.append(img)
                    # Get time from filename
                    curtime_str = filename.split('_')[1][0:12]
                    curtime = datetime.strptime(curtime_str, '%y%m%d%H%M%S')  # Convert to seconds
                    # Calculate elapsed time and convert to label
                    elapsed_time = (curtime - min_time).total_seconds() // 3600  # Convert to hours
                    if elapsed_time <= 12:
                        label = 1
                    elif elapsed_time <= 24:
                        label = 2
                    elif elapsed_time <= 36:
                        label = 3
                    elif elapsed_time <= 48:
                        label = 4
                    elif elapsed_time <= 60:
                        label = 5
                    elif elapsed_time <= 72:
                        label = 6
                    else:
                        label = 7  # More than 72 hours
                    labels.append(label)

    images = np.array(images)
    labels = np.array(labels)
    return images, labels



# Define the new image shape
image_shape = (128, 128)

# Load train images and labels
train_images, train_labels = load_images_and_labels('/content/drive/MyDrive/roots/train', image_shape)


# Clear memory
gc.collect()

# Load test images and labels
test_images, test_labels = load_images_and_labels('/content/drive/MyDrive/roots/test', image_shape)

# Clear memory
gc.collect()

# Preprocess images
train_images = train_images.astype('float32') / 255.0
test_images = test_images.astype('float32') / 255.0

# Convert labels to categorical one-hot encoding
train_labels = to_categorical(train_labels)
test_labels = to_categorical(test_labels)

num_labels = train_labels.shape[1]  # Get the number of labels

# Build model
model = Sequential([
    Conv2D(32, (3, 3), activation='relu', input_shape=(image_shape[0], image_shape[1], 3)),
    MaxPooling2D((2, 2)),
    Conv2D(64, (3, 3), activation='relu'),
    MaxPooling2D((2, 2)),
    Flatten(),
    Dense(64, activation='relu'),
    Dense(num_labels, activation='softmax')  # Replace with the number of labels
])

# Compile model
model.compile(loss='binary_crossentropy',
              optimizer='adam',
              metrics=['accuracy'])

# Train model
history = model.fit(train_images, train_labels,
                    epochs=10,  # Modify as needed
                    batch_size=32,  # Modify as needed
                    validation_data=(test_images, test_labels))


import matplotlib.pyplot as plt

# Plot training & validation accuracy values
plt.figure(figsize=(12, 4))
plt.subplot(1, 2, 1)
plt.plot(history.history['accuracy'])
plt.plot(history.history['val_accuracy'])
plt.title('Model accuracy')
plt.ylabel('Accuracy')
plt.xlabel('Epoch')
plt.legend(['Train', 'Test'], loc='upper left')

# Plot training & validation loss values
plt.subplot(1, 2, 2)
plt.plot(history.history['loss'])
plt.plot(history.history['val_loss'])
plt.title('Model loss')
plt.ylabel('Loss')
plt.xlabel('Epoch')
plt.legend(['Train', 'Test'], loc='upper left')

plt.show()

import matplotlib.pyplot as plt

# Get accuracy history from the training history
train_acc = history.history['accuracy']
val_acc = history.history['val_accuracy']

# Get the number of epochs
epochs = range(len(train_acc))

# Plot training and validation accuracy per epoch
plt.figure(figsize=(12, 8))
plt.plot(epochs, train_acc, 'r', label='Training accuracy')
plt.plot(epochs, val_acc, 'b', label='Validation accuracy')
plt.title('Training and validation accuracy')
plt.xlabel('Epoch')
plt.ylabel('Accuracy')
plt.legend(loc=0)
plt.show()

# Print the final accuracy
print(f'Training accuracy: {train_acc[-1]:.2f}')
print(f'Validation accuracy: {val_acc[-1]:.2f}')

# 각 epoch마다의 validation 정확도를 추출
val_accuracy = history.history['val_accuracy']

# Histogram 그리기 위한 설정
epochs = range(1, len(val_accuracy) + 1)
plt.bar(epochs, val_accuracy)
plt.xlabel('Epochs')
plt.ylabel('Validation Accuracy')
plt.title('Validation Accuracy per Epoch')
plt.xticks(epochs)
plt.show()

def get_min_time(folder_name):
    min_time = None
    for filename in os.listdir(folder_name):
        if filename.endswith(".jpg"):
            # Get time from filename
            time_str = filename.split('_')[1][0:12]  # Get '시분초'
            time = datetime.strptime(time_str, '%y%m%d%H%M%S')  # Convert to seconds
            # Set min_time to the time of the first image
            if min_time is None:
                min_time = time
            elif time < min_time:
                min_time = time
    return min_time

def predict_and_display(image_path, model, image_shape, min_time):
    # Read the image
    img = cv2.imread(image_path)
    # Resize the image
    img_resized = cv2.resize(img, image_shape)

    # Get the true label from the filename
    folder_name, filename = os.path.split(image_path)
    # Get time from filename
    time_str = filename.split('_')[1][0:12]  # Get '시분초'
    time = datetime.strptime(time_str, '%y%m%d%H%M%S')  # Convert to seconds

    # Calculate elapsed time and convert to label
    elapsed_time = (time - min_time).total_seconds() // 3600  # Convert to hours
    if elapsed_time < 12:
        true_label = 1
    elif elapsed_time < 24:
        true_label = 2
    elif elapsed_time < 36:
        true_label = 3
    elif elapsed_time < 48:
        true_label = 4
    elif elapsed_time < 60:
        true_label = 5
    elif elapsed_time < 72:
        true_label = 6
    else:
        true_label = 7  # More than 72 hours

    # Predict the label
    img_batch = np.expand_dims(img_resized, axis=0)
    img_preprocessed = img_batch.astype('float32') / 255.0
    predictions = model.predict(img_preprocessed)
    predicted_label = np.argmax(predictions)

    # Display the image
    plt.imshow(cv2.cvtColor(img, cv2.COLOR_BGR2RGB))
    plt.title(f'True label: {true_label}, Predicted label: {predicted_label}')
    plt.show()

import random

trainfiles = get_random_files_in_folder('/content/drive/MyDrive/roots/test', 10)

for image_path in trainfiles:
    folder_name, _ = os.path.split(image_path)
    min_time = get_min_time(folder_name)
    predict_and_display(image_path, model, image_shape, min_time)
